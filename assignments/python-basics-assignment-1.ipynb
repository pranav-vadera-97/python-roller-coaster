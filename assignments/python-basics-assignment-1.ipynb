{
 "cells": [
  {
   "cell_type": "markdown",
   "metadata": {},
   "source": [
    "### 1. In the below elements which of them are values or an expression? eg:- values can be integer or string and expressions will be mathematical operators.\n",
    "\n",
    "### The answer of the following question is following :-\n",
    "1) \"*\" => the asterisk(*) is an operator\n",
    "2) 'hello' => this 'hello' string is a value\n",
    "3) -87.8 => this is also a value (a float value)\n",
    "4) - => this symbol is an operator\n",
    "5) / => this symbol is also an operator\n",
    "6) + => this symbol is also an operator\n",
    "7) 6 => this is an integer value"
   ]
  },
  {
   "cell_type": "markdown",
   "metadata": {},
   "source": [
    "### 2. What is the difference between string and variable?\n",
    "#### In python, string is treated as a data type and the variable just a memory space or we can say a container which will hold the data"
   ]
  },
  {
   "cell_type": "markdown",
   "metadata": {},
   "source": [
    "### 3. Describe three different data types.\n",
    "\n",
    "### Following are the three different data types:-\n",
    "1. int => this data type is used to identify a data entity as an integer value\n",
    "2. str => this data type is used to identify a data entity as a string value. string is nothing but a sequence of characters grouped togather\n",
    "3. bool => this data type is used to identify a data entity as a boolean data type. In python, bool data types refers to two possible values => \"True\" and \"False\"\n",
    "\n",
    "### Note => In some programming languages, especially the dynamically typed languages, it is the data which has a type and not the variable itself."
   ]
  },
  {
   "cell_type": "markdown",
   "metadata": {},
   "source": [
    "### 4. What is an expression made up of? What do all expressions do?\n",
    "\n",
    "#### An expression is a combination of values, variables, operators, and function calls that can be evaluated to produce a result. Expressions are the building blocks of any programming language and are used to perform computations, make decisions, and create more complex data structures."
   ]
  },
  {
   "cell_type": "markdown",
   "metadata": {},
   "source": [
    "### 5. This assignment statements, like spam = 10. What is the difference between an expression and a statement?\n",
    "\n",
    "#### The primary difference between expressions and statements is that expressions always evaluate to a value, whereas statements are executed to perform some action. Statements contribute to the overall structure and behavior of the program, while expressions are used to compute and produce values that can be used by statements or other expressions."
   ]
  },
  {
   "cell_type": "markdown",
   "metadata": {},
   "source": [
    "### After running the following code, what does the variable bacon contain?\n",
    "### bacon = 22\n",
    "### bacon + 1\n",
    "\n",
    "#### The answer is the variable \"bacon\" will contain the value 23 as previously, the value was 22 and as now we are adding 1 to it, it's value will become 23"
   ]
  },
  {
   "cell_type": "markdown",
   "metadata": {},
   "source": []
  }
 ],
 "metadata": {
  "kernelspec": {
   "display_name": "Python 3.8.10 64-bit",
   "language": "python",
   "name": "python3"
  },
  "language_info": {
   "codemirror_mode": {
    "name": "ipython",
    "version": 3
   },
   "file_extension": ".py",
   "mimetype": "text/x-python",
   "name": "python",
   "nbconvert_exporter": "python",
   "pygments_lexer": "ipython3",
   "version": "3.8.10"
  },
  "orig_nbformat": 4,
  "vscode": {
   "interpreter": {
    "hash": "e7370f93d1d0cde622a1f8e1c04877d8463912d04d973331ad4851f04de6915a"
   }
  }
 },
 "nbformat": 4,
 "nbformat_minor": 2
}
